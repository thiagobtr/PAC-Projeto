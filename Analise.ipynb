{
 "cells": [
  {
   "cell_type": "markdown",
   "metadata": {},
   "source": [
    "### Análise do Saneamento e"
   ]
  },
  {
   "cell_type": "code",
   "execution_count": 7,
   "metadata": {},
   "outputs": [
    {
     "name": "stderr",
     "output_type": "stream",
     "text": [
      "\n",
      "Attaching package: ‘dplyr’\n",
      "\n",
      "The following objects are masked from ‘package:stats’:\n",
      "\n",
      "    filter, lag\n",
      "\n",
      "The following objects are masked from ‘package:base’:\n",
      "\n",
      "    intersect, setdiff, setequal, union\n",
      "\n"
     ]
    }
   ],
   "source": [
    "#Pacotes\n",
    "library('ggplot2')\n",
    "#library('stringr')\n",
    "library('dplyr')"
   ]
  },
  {
   "cell_type": "code",
   "execution_count": 14,
   "metadata": {},
   "outputs": [
    {
     "ename": "ERROR",
     "evalue": "Error in type.convert.default(data[[i]], as.is = as.is[i], dec = dec, : invalid multibyte string at '<b0>32'24<2e>000000\"S'\n",
     "output_type": "error",
     "traceback": [
      "Error in type.convert.default(data[[i]], as.is = as.is[i], dec = dec, : invalid multibyte string at '<b0>32'24<2e>000000\"S'\nTraceback:\n",
      "1. data.frame(read.csv(\"PAC_2014_10.csv\", header = TRUE, sep = \";\"))",
      "2. read.csv(\"PAC_2014_10.csv\", header = TRUE, sep = \";\")",
      "3. read.table(file = file, header = header, sep = sep, quote = quote, \n .     dec = dec, fill = fill, comment.char = comment.char, ...)",
      "4. type.convert(data[[i]], as.is = as.is[i], dec = dec, numerals = numerals, \n .     na.strings = character(0L))",
      "5. type.convert.default(data[[i]], as.is = as.is[i], dec = dec, \n .     numerals = numerals, na.strings = character(0L))"
     ]
    }
   ],
   "source": [
    "pac <- data.frame(read.csv('PAC_2014_10.csv',header=TRUE,sep=';'))"
   ]
  },
  {
   "cell_type": "code",
   "execution_count": 15,
   "metadata": {},
   "outputs": [
    {
     "ename": "ERROR",
     "evalue": "Error in str(pac): object 'pac' not found\n",
     "output_type": "error",
     "traceback": [
      "Error in str(pac): object 'pac' not found\nTraceback:\n",
      "1. str(pac)"
     ]
    }
   ],
   "source": [
    "str(pac)"
   ]
  },
  {
   "cell_type": "code",
   "execution_count": null,
   "metadata": {},
   "outputs": [],
   "source": []
  }
 ],
 "metadata": {
  "kernelspec": {
   "display_name": "R",
   "language": "R",
   "name": "ir"
  },
  "language_info": {
   "codemirror_mode": "r",
   "file_extension": ".r",
   "mimetype": "text/x-r-source",
   "name": "R",
   "pygments_lexer": "r",
   "version": "3.5.3"
  }
 },
 "nbformat": 4,
 "nbformat_minor": 2
}
